{
 "cells": [
  {
   "cell_type": "code",
   "execution_count": 1,
   "id": "da35836b-717b-4f36-8cfc-28ff182ce420",
   "metadata": {},
   "outputs": [],
   "source": [
    "from cafa.etl.data_flow import data_flow"
   ]
  },
  {
   "cell_type": "code",
   "execution_count": 2,
   "id": "fa11cd00-7644-458c-9a32-73f555f7aaa4",
   "metadata": {},
   "outputs": [
    {
     "name": "stdout",
     "output_type": "stream",
     "text": [
      "README.md      \u001b[1m\u001b[36mnotebooks\u001b[m\u001b[m      setup.py\n",
      "\u001b[1m\u001b[36mdata\u001b[m\u001b[m           pyproject.toml \u001b[1m\u001b[36msrc\u001b[m\u001b[m\n"
     ]
    }
   ],
   "source": [
    "!ls .."
   ]
  },
  {
   "cell_type": "code",
   "execution_count": 2,
   "id": "b63b346d-b44f-47c0-99ec-dd19979ef15f",
   "metadata": {},
   "outputs": [],
   "source": [
    "go_filepath = \"../data/flow_output/processed_go.pkl\"\n",
    "protein_filepath = \"../data/flow_output/protein.pkl\""
   ]
  },
  {
   "cell_type": "code",
   "execution_count": 3,
   "id": "9785c127-e21e-480b-8cb6-fcc5a7333b4a",
   "metadata": {},
   "outputs": [],
   "source": [
    "data_flow(go_filepath, protein_filepath)"
   ]
  },
  {
   "cell_type": "code",
   "execution_count": null,
   "id": "e509f314-afe1-4548-a63c-23a385ef6a10",
   "metadata": {},
   "outputs": [],
   "source": []
  }
 ],
 "metadata": {
  "kernelspec": {
   "display_name": "Python 3 (ipykernel)",
   "language": "python",
   "name": "python3"
  },
  "language_info": {
   "codemirror_mode": {
    "name": "ipython",
    "version": 3
   },
   "file_extension": ".py",
   "mimetype": "text/x-python",
   "name": "python",
   "nbconvert_exporter": "python",
   "pygments_lexer": "ipython3",
   "version": "3.10.4"
  }
 },
 "nbformat": 4,
 "nbformat_minor": 5
}
