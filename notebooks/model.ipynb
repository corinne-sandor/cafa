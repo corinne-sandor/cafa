{
 "cells": [
  {
   "cell_type": "code",
   "execution_count": 1,
   "id": "9ea38e67-3e0d-4154-8242-646d1d78a669",
   "metadata": {},
   "outputs": [],
   "source": [
    "import tensorflow as tf\n",
    "import pandas as pd\n",
    "import numpy as np\n",
    "import seaborn as sns\n",
    "import matplotlib.pyplot as plt\n",
    "\n",
    "# Required for progressbar widget\n",
    "import progressbar"
   ]
  },
  {
   "cell_type": "code",
   "execution_count": 2,
   "id": "4b5e83d6-1941-47c1-aaba-b27736cdc88a",
   "metadata": {},
   "outputs": [],
   "source": [
    "train_terms = pd.read_csv('../data/cafa-5-protein-function-prediction/Train/train_terms.tsv',sep=\"\\t\")\n",
    "train_protein_ids = np.load('../data/cafa-5-protein-function-prediction/Train/train_ids.npy')\n",
    "train_embeddings = np.load('../data/cafa-5-protein-function-prediction/Train/train_embeds.npy')\n",
    "\n",
    "# Now lets convert embeddings numpy array(train_embeddings) into pandas dataframe.\n",
    "column_num = train_embeddings.shape[1]\n",
    "train_df = pd.DataFrame(train_embeddings, columns = [\"Column_\" + str(i) for i in range(1, column_num+1)])"
   ]
  },
  {
   "cell_type": "code",
   "execution_count": 4,
   "id": "fa1ea8c1-9935-4a1c-a22b-c9248d892fda",
   "metadata": {},
   "outputs": [
    {
     "data": {
      "text/plain": [
       "31466"
      ]
     },
     "execution_count": 4,
     "metadata": {},
     "output_type": "execute_result"
    }
   ],
   "source": [
    "train_terms.term.nunique()"
   ]
  },
  {
   "cell_type": "code",
   "execution_count": 45,
   "id": "29153b2f-24a9-49df-8c65-8af40d6a4294",
   "metadata": {},
   "outputs": [],
   "source": [
    "# Set the limit for label\n",
    "num_of_labels = 1500\n",
    "\n",
    "# Take value counts in descending order and fetch first 1500 `GO term ID` as labels\n",
    "labels = train_terms['term'].value_counts().index[:num_of_labels].tolist()\n",
    "# Fetch the train_terms data for the relevant labels only\n",
    "train_terms_updated = train_terms.loc[train_terms['term'].isin(labels)]"
   ]
  },
  {
   "cell_type": "code",
   "execution_count": 46,
   "id": "23608646-2384-442f-95ac-029cfe0adecb",
   "metadata": {},
   "outputs": [],
   "source": [
    "# Setup progressbar settings.\n",
    "# This is strictly for aesthetic.\n",
    "bar = progressbar.ProgressBar(maxval=num_of_labels,\n",
    "                              widgets=[progressbar.Bar('=', '[', ']'),\n",
    "                                       ' ', progressbar.Percentage()])\n",
    "\n",
    "# Create an empty dataframe of required size for storing the labels,\n",
    "# i.e, train_size x num_of_labels (142246 x 1500)\n",
    "train_size = train_protein_ids.shape[0] # len(X)\n",
    "train_labels = np.zeros((train_size ,num_of_labels))\n",
    "\n",
    "# Convert from numpy to pandas series for better handling\n",
    "series_train_protein_ids = pd.Series(train_protein_ids)"
   ]
  },
  {
   "cell_type": "code",
   "execution_count": 47,
   "id": "db558836-7fbb-49ba-aa2d-77e9cbdc5d60",
   "metadata": {},
   "outputs": [
    {
     "name": "stderr",
     "output_type": "stream",
     "text": [
      "[===========================================================================================================================================] 100%\r"
     ]
    },
    {
     "name": "stdout",
     "output_type": "stream",
     "text": [
      "CPU times: user 5min 39s, sys: 5.11 s, total: 5min 44s\n",
      "Wall time: 6min 49s\n"
     ]
    },
    {
     "name": "stderr",
     "output_type": "stream",
     "text": [
      "\n"
     ]
    }
   ],
   "source": [
    "%%time\n",
    "# Loop through each label\n",
    "bar.start()\n",
    "for i in range(num_of_labels):\n",
    "    # For each label, fetch the corresponding train_terms data\n",
    "    n_train_terms = train_terms_updated[train_terms_updated['term'] ==  labels[i]]\n",
    "    \n",
    "    # Fetch all the unique EntryId aka proteins related to the current label(GO term ID)\n",
    "    label_related_proteins = n_train_terms['EntryID'].unique()\n",
    "    \n",
    "    # In the series_train_protein_ids pandas series, if a protein is related\n",
    "    # to the current label, then mark it as 1, else 0.\n",
    "    # Replace the ith column of train_Y with with that pandas series.\n",
    "    train_labels[:,i] =  series_train_protein_ids.isin(label_related_proteins).astype(float)\n",
    "    \n",
    "    # Progress bar percentage increase\n",
    "    bar.update(i+1)\n",
    "\n",
    "# Notify the end of progress bar \n",
    "bar.finish()"
   ]
  },
  {
   "cell_type": "code",
   "execution_count": 48,
   "id": "939976e0-de81-4e2b-9188-3526b46008c9",
   "metadata": {},
   "outputs": [],
   "source": [
    "# Convert train_Y numpy into pandas dataframe\n",
    "labels_df = pd.DataFrame(data = train_labels, columns = labels)"
   ]
  },
  {
   "cell_type": "code",
   "execution_count": 49,
   "id": "90aabeb5-e644-4594-81f1-fd20d1b5490c",
   "metadata": {},
   "outputs": [
    {
     "data": {
      "text/plain": [
       "GO:0005575    92912.0\n",
       "GO:0008150    92210.0\n",
       "GO:0110165    91286.0\n",
       "GO:0003674    78637.0\n",
       "GO:0005622    70785.0\n",
       "               ...   \n",
       "GO:0051783      431.0\n",
       "GO:0031674      431.0\n",
       "GO:0001818      431.0\n",
       "GO:0006874      430.0\n",
       "GO:0016887      430.0\n",
       "Length: 1500, dtype: float64"
      ]
     },
     "execution_count": 49,
     "metadata": {},
     "output_type": "execute_result"
    }
   ],
   "source": [
    "labels_df.sum()"
   ]
  },
  {
   "cell_type": "markdown",
   "id": "024a7b39-1ebd-4d9d-859e-1e03a8cb6b81",
   "metadata": {
    "papermill": {
     "duration": 0.010523,
     "end_time": "2023-05-09T08:38:52.052433",
     "exception": false,
     "start_time": "2023-05-09T08:38:52.04191",
     "status": "completed"
    },
    "tags": []
   },
   "source": [
    "# Training\n",
    "\n",
    "Next, we will use Tensorflow to train a Deep Neural Network with the protein embeddings."
   ]
  },
  {
   "cell_type": "code",
   "execution_count": 50,
   "id": "13a16acb-6d04-494d-ab30-d65acdb83857",
   "metadata": {
    "papermill": {
     "duration": 128.96621,
     "end_time": "2023-05-09T08:41:01.029422",
     "exception": false,
     "start_time": "2023-05-09T08:38:52.063212",
     "status": "completed"
    },
    "tags": []
   },
   "outputs": [
    {
     "name": "stderr",
     "output_type": "stream",
     "text": [
      "WARNING:absl:At this time, the v2.11+ optimizer `tf.keras.optimizers.Adam` runs slowly on M1/M2 Macs, please use the legacy Keras optimizer instead, located at `tf.keras.optimizers.legacy.Adam`.\n",
      "WARNING:absl:There is a known slowdown when using v2.11+ Keras optimizers on M1/M2 Macs. Falling back to the legacy Keras optimizer, i.e., `tf.keras.optimizers.legacy.Adam`.\n"
     ]
    },
    {
     "name": "stdout",
     "output_type": "stream",
     "text": [
      "Epoch 1/5\n",
      "28/28 [==============================] - 7s 231ms/step - loss: 0.2023 - binary_accuracy: 0.9387 - auc_1: 0.6802\n",
      "Epoch 2/5\n",
      "28/28 [==============================] - 6s 222ms/step - loss: 0.0782 - binary_accuracy: 0.9801 - auc_1: 0.8326\n",
      "Epoch 3/5\n",
      "28/28 [==============================] - 7s 258ms/step - loss: 0.0735 - binary_accuracy: 0.9803 - auc_1: 0.8619\n",
      "Epoch 4/5\n",
      "28/28 [==============================] - 7s 243ms/step - loss: 0.0694 - binary_accuracy: 0.9805 - auc_1: 0.8883\n",
      "Epoch 5/5\n",
      "28/28 [==============================] - 6s 228ms/step - loss: 0.0666 - binary_accuracy: 0.9807 - auc_1: 0.9040\n",
      "CPU times: user 3min 19s, sys: 41 s, total: 4min\n",
      "Wall time: 35.4 s\n"
     ]
    }
   ],
   "source": [
    "%%time\n",
    "INPUT_SHAPE = [train_df.shape[1]]\n",
    "BATCH_SIZE = 5120\n",
    "\n",
    "model = tf.keras.Sequential([\n",
    "    tf.keras.layers.BatchNormalization(input_shape=INPUT_SHAPE),    \n",
    "    tf.keras.layers.Dense(units=512, activation='relu'),\n",
    "    tf.keras.layers.Dense(units=512, activation='relu'),\n",
    "    tf.keras.layers.Dense(units=512, activation='relu'),\n",
    "    tf.keras.layers.Dense(units=num_of_labels,activation='sigmoid')\n",
    "])\n",
    "\n",
    "\n",
    "# Compile model\n",
    "model.compile(\n",
    "    optimizer=tf.keras.optimizers.Adam(learning_rate=0.001),\n",
    "    loss='binary_crossentropy',\n",
    "    metrics=['binary_accuracy', tf.keras.metrics.AUC()],\n",
    ")\n",
    "\n",
    "history = model.fit(\n",
    "    train_df, labels_df,\n",
    "    batch_size=BATCH_SIZE,\n",
    "    epochs=5\n",
    ")"
   ]
  },
  {
   "cell_type": "markdown",
   "id": "4c371a50-0f17-4e93-a789-1ee8f474c7a5",
   "metadata": {
    "papermill": {
     "duration": 0.019782,
     "end_time": "2023-05-09T08:41:01.06997",
     "exception": false,
     "start_time": "2023-05-09T08:41:01.050188",
     "status": "completed"
    },
    "tags": []
   },
   "source": [
    "# Plot the model's loss and accuracy for each epoch"
   ]
  },
  {
   "cell_type": "code",
   "execution_count": 51,
   "id": "56b72d2f-8028-45f9-9032-297af13f1223",
   "metadata": {
    "papermill": {
     "duration": 0.647806,
     "end_time": "2023-05-09T08:41:01.737745",
     "exception": false,
     "start_time": "2023-05-09T08:41:01.089939",
     "status": "completed"
    },
    "tags": []
   },
   "outputs": [
    {
     "data": {
      "text/plain": [
       "<Axes: title={'center': 'Accuracy'}>"
      ]
     },
     "execution_count": 51,
     "metadata": {},
     "output_type": "execute_result"
    },
    {
     "data": {
      "image/png": "[encoded data removed]",
      "text/plain": [
       "<Figure size 640x480 with 1 Axes>"
      ]
     },
     "metadata": {},
     "output_type": "display_data"
    },
    {
     "data": {
      "image/png": "[encoded data removed]",
      "text/plain": [
       "<Figure size 640x480 with 1 Axes>"
      ]
     },
     "metadata": {},
     "output_type": "display_data"
    }
   ],
   "source": [
    "history_df = pd.DataFrame(history.history)\n",
    "history_df.loc[:, ['loss']].plot(title=\"Cross-entropy\")\n",
    "history_df.loc[:, ['binary_accuracy']].plot(title=\"Accuracy\")"
   ]
  },
  {
   "cell_type": "markdown",
   "id": "87b921f2-7acb-4764-915c-d63a502f1c66",
   "metadata": {
    "papermill": {
     "duration": 0.021665,
     "end_time": "2023-05-09T08:41:01.780867",
     "exception": false,
     "start_time": "2023-05-09T08:41:01.759202",
     "status": "completed"
    },
    "tags": []
   },
   "source": [
    "# Submission"
   ]
  },
  {
   "cell_type": "markdown",
   "id": "16e819e0-6d0c-4877-9360-d1ca68dd54ba",
   "metadata": {
    "papermill": {
     "duration": 0.02075,
     "end_time": "2023-05-09T08:41:01.82296",
     "exception": false,
     "start_time": "2023-05-09T08:41:01.80221",
     "status": "completed"
    },
    "tags": []
   },
   "source": [
    "For submission we will use the protein embeddings of the test data created by [Sergei Fironov](https://www.kaggle.com/sergeifironov) using the Rost Lab's T5 protein language model."
   ]
  },
  {
   "cell_type": "code",
   "execution_count": 52,
   "id": "3a817136-133a-4521-bd56-46c81fd5afb4",
   "metadata": {
    "papermill": {
     "duration": 10.290827,
     "end_time": "2023-05-09T08:41:12.134919",
     "exception": false,
     "start_time": "2023-05-09T08:41:01.844092",
     "status": "completed"
    },
    "tags": []
   },
   "outputs": [
    {
     "name": "stdout",
     "output_type": "stream",
     "text": [
      "(141865, 1024)\n"
     ]
    }
   ],
   "source": [
    "test_embeddings = np.load('../data/cafa-5-protein-function-prediction/Test (Targets)/test_embeds.npy')\n",
    "\n",
    "# Convert test_embeddings to dataframe\n",
    "column_num = test_embeddings.shape[1]\n",
    "test_df = pd.DataFrame(test_embeddings, columns = [\"Column_\" + str(i) for i in range(1, column_num+1)])\n",
    "print(test_df.shape)"
   ]
  },
  {
   "cell_type": "markdown",
   "id": "d33e764b-0f3d-4efd-94e2-9de0247cc01c",
   "metadata": {
    "papermill": {
     "duration": 0.020857,
     "end_time": "2023-05-09T08:41:12.17776",
     "exception": false,
     "start_time": "2023-05-09T08:41:12.156903",
     "status": "completed"
    },
    "tags": []
   },
   "source": [
    "The `test_df` is composed of 1024 columns and 141865 entries. We can see all 1024 dimensions(results will be truncated since column length is too long) of our dataset by printing out the first 5 entries using the following code:"
   ]
  },
  {
   "cell_type": "code",
   "execution_count": 53,
   "id": "83e6baec-200f-4fd4-b604-d72c725c2b8b",
   "metadata": {
    "papermill": {
     "duration": 0.050123,
     "end_time": "2023-05-09T08:41:12.248732",
     "exception": false,
     "start_time": "2023-05-09T08:41:12.198609",
     "status": "completed"
    },
    "tags": []
   },
   "outputs": [
    {
     "data": {
      "text/html": [
       "<div>\n",
       "<style scoped>\n",
       "    .dataframe tbody tr th:only-of-type {\n",
       "        vertical-align: middle;\n",
       "    }\n",
       "\n",
       "    .dataframe tbody tr th {\n",
       "        vertical-align: top;\n",
       "    }\n",
       "\n",
       "    .dataframe thead th {\n",
       "        text-align: right;\n",
       "    }\n",
       "</style>\n",
       "<table border=\"1\" class=\"dataframe\">\n",
       "  <thead>\n",
       "    <tr style=\"text-align: right;\">\n",
       "      <th></th>\n",
       "      <th>Column_1</th>\n",
       "      <th>Column_2</th>\n",
       "      <th>Column_3</th>\n",
       "      <th>Column_4</th>\n",
       "      <th>Column_5</th>\n",
       "      <th>Column_6</th>\n",
       "      <th>Column_7</th>\n",
       "      <th>Column_8</th>\n",
       "      <th>Column_9</th>\n",
       "      <th>Column_10</th>\n",
       "      <th>...</th>\n",
       "      <th>Column_1015</th>\n",
       "      <th>Column_1016</th>\n",
       "      <th>Column_1017</th>\n",
       "      <th>Column_1018</th>\n",
       "      <th>Column_1019</th>\n",
       "      <th>Column_1020</th>\n",
       "      <th>Column_1021</th>\n",
       "      <th>Column_1022</th>\n",
       "      <th>Column_1023</th>\n",
       "      <th>Column_1024</th>\n",
       "    </tr>\n",
       "  </thead>\n",
       "  <tbody>\n",
       "    <tr>\n",
       "      <th>0</th>\n",
       "      <td>0.054705</td>\n",
       "      <td>0.063420</td>\n",
       "      <td>-0.015320</td>\n",
       "      <td>-0.016506</td>\n",
       "      <td>0.042195</td>\n",
       "      <td>0.021592</td>\n",
       "      <td>-0.118535</td>\n",
       "      <td>-0.063298</td>\n",
       "      <td>-0.046146</td>\n",
       "      <td>-0.102311</td>\n",
       "      <td>...</td>\n",
       "      <td>-0.019581</td>\n",
       "      <td>-0.043712</td>\n",
       "      <td>-0.072322</td>\n",
       "      <td>0.002404</td>\n",
       "      <td>0.018459</td>\n",
       "      <td>-0.047278</td>\n",
       "      <td>0.012195</td>\n",
       "      <td>-0.043319</td>\n",
       "      <td>0.036009</td>\n",
       "      <td>0.063093</td>\n",
       "    </tr>\n",
       "    <tr>\n",
       "      <th>1</th>\n",
       "      <td>0.090373</td>\n",
       "      <td>0.089842</td>\n",
       "      <td>-0.023887</td>\n",
       "      <td>-0.011446</td>\n",
       "      <td>0.051465</td>\n",
       "      <td>0.020982</td>\n",
       "      <td>-0.110989</td>\n",
       "      <td>-0.066646</td>\n",
       "      <td>-0.041259</td>\n",
       "      <td>-0.087551</td>\n",
       "      <td>...</td>\n",
       "      <td>-0.024399</td>\n",
       "      <td>-0.041957</td>\n",
       "      <td>-0.066329</td>\n",
       "      <td>0.006856</td>\n",
       "      <td>0.028449</td>\n",
       "      <td>-0.053758</td>\n",
       "      <td>0.009699</td>\n",
       "      <td>-0.053350</td>\n",
       "      <td>0.019644</td>\n",
       "      <td>0.079630</td>\n",
       "    </tr>\n",
       "    <tr>\n",
       "      <th>2</th>\n",
       "      <td>0.043588</td>\n",
       "      <td>0.039572</td>\n",
       "      <td>-0.014332</td>\n",
       "      <td>-0.011769</td>\n",
       "      <td>0.045109</td>\n",
       "      <td>0.015847</td>\n",
       "      <td>-0.103339</td>\n",
       "      <td>-0.047735</td>\n",
       "      <td>-0.022730</td>\n",
       "      <td>-0.091452</td>\n",
       "      <td>...</td>\n",
       "      <td>-0.029648</td>\n",
       "      <td>-0.037944</td>\n",
       "      <td>-0.046043</td>\n",
       "      <td>0.003603</td>\n",
       "      <td>0.018028</td>\n",
       "      <td>-0.030746</td>\n",
       "      <td>0.003671</td>\n",
       "      <td>-0.044464</td>\n",
       "      <td>0.030974</td>\n",
       "      <td>0.040322</td>\n",
       "    </tr>\n",
       "    <tr>\n",
       "      <th>3</th>\n",
       "      <td>0.055668</td>\n",
       "      <td>0.049560</td>\n",
       "      <td>-0.019646</td>\n",
       "      <td>-0.006977</td>\n",
       "      <td>0.039897</td>\n",
       "      <td>0.021177</td>\n",
       "      <td>-0.108079</td>\n",
       "      <td>-0.047191</td>\n",
       "      <td>-0.031517</td>\n",
       "      <td>-0.100057</td>\n",
       "      <td>...</td>\n",
       "      <td>-0.023210</td>\n",
       "      <td>-0.041704</td>\n",
       "      <td>-0.048440</td>\n",
       "      <td>0.006088</td>\n",
       "      <td>0.020110</td>\n",
       "      <td>-0.046751</td>\n",
       "      <td>-0.006635</td>\n",
       "      <td>-0.041455</td>\n",
       "      <td>0.016683</td>\n",
       "      <td>0.057030</td>\n",
       "    </tr>\n",
       "    <tr>\n",
       "      <th>4</th>\n",
       "      <td>0.022637</td>\n",
       "      <td>0.014306</td>\n",
       "      <td>-0.002696</td>\n",
       "      <td>-0.034456</td>\n",
       "      <td>0.034854</td>\n",
       "      <td>0.020822</td>\n",
       "      <td>-0.114046</td>\n",
       "      <td>-0.050019</td>\n",
       "      <td>-0.026491</td>\n",
       "      <td>-0.097928</td>\n",
       "      <td>...</td>\n",
       "      <td>-0.019185</td>\n",
       "      <td>-0.032108</td>\n",
       "      <td>-0.051394</td>\n",
       "      <td>0.008448</td>\n",
       "      <td>0.015208</td>\n",
       "      <td>-0.037987</td>\n",
       "      <td>0.030977</td>\n",
       "      <td>-0.042407</td>\n",
       "      <td>0.041232</td>\n",
       "      <td>0.047161</td>\n",
       "    </tr>\n",
       "  </tbody>\n",
       "</table>\n",
       "<p>5 rows × 1024 columns</p>\n",
       "</div>"
      ],
      "text/plain": [
       "   Column_1  Column_2  Column_3  Column_4  Column_5  Column_6  Column_7  \\\n",
       "0  0.054705  0.063420 -0.015320 -0.016506  0.042195  0.021592 -0.118535   \n",
       "1  0.090373  0.089842 -0.023887 -0.011446  0.051465  0.020982 -0.110989   \n",
       "2  0.043588  0.039572 -0.014332 -0.011769  0.045109  0.015847 -0.103339   \n",
       "3  0.055668  0.049560 -0.019646 -0.006977  0.039897  0.021177 -0.108079   \n",
       "4  0.022637  0.014306 -0.002696 -0.034456  0.034854  0.020822 -0.114046   \n",
       "\n",
       "   Column_8  Column_9  Column_10  ...  Column_1015  Column_1016  Column_1017  \\\n",
       "0 -0.063298 -0.046146  -0.102311  ...    -0.019581    -0.043712    -0.072322   \n",
       "1 -0.066646 -0.041259  -0.087551  ...    -0.024399    -0.041957    -0.066329   \n",
       "2 -0.047735 -0.022730  -0.091452  ...    -0.029648    -0.037944    -0.046043   \n",
       "3 -0.047191 -0.031517  -0.100057  ...    -0.023210    -0.041704    -0.048440   \n",
       "4 -0.050019 -0.026491  -0.097928  ...    -0.019185    -0.032108    -0.051394   \n",
       "\n",
       "   Column_1018  Column_1019  Column_1020  Column_1021  Column_1022  \\\n",
       "0     0.002404     0.018459    -0.047278     0.012195    -0.043319   \n",
       "1     0.006856     0.028449    -0.053758     0.009699    -0.053350   \n",
       "2     0.003603     0.018028    -0.030746     0.003671    -0.044464   \n",
       "3     0.006088     0.020110    -0.046751    -0.006635    -0.041455   \n",
       "4     0.008448     0.015208    -0.037987     0.030977    -0.042407   \n",
       "\n",
       "   Column_1023  Column_1024  \n",
       "0     0.036009     0.063093  \n",
       "1     0.019644     0.079630  \n",
       "2     0.030974     0.040322  \n",
       "3     0.016683     0.057030  \n",
       "4     0.041232     0.047161  \n",
       "\n",
       "[5 rows x 1024 columns]"
      ]
     },
     "execution_count": 53,
     "metadata": {},
     "output_type": "execute_result"
    }
   ],
   "source": [
    "test_df.head()"
   ]
  },
  {
   "cell_type": "markdown",
   "id": "2e176196-453e-44f1-9b37-e8e0833117b0",
   "metadata": {},
   "source": [
    "We will now use the model to make predictions on the test embeddings. "
   ]
  },
  {
   "cell_type": "code",
   "execution_count": 54,
   "id": "5b578459-03c0-4948-bd0e-62e533f14fd3",
   "metadata": {
    "papermill": {
     "duration": 663.907351,
     "end_time": "2023-05-09T08:52:16.178461",
     "exception": false,
     "start_time": "2023-05-09T08:41:12.27111",
     "status": "completed"
    },
    "tags": []
   },
   "outputs": [
    {
     "name": "stdout",
     "output_type": "stream",
     "text": [
      "4434/4434 [==============================] - 7s 2ms/step\n"
     ]
    }
   ],
   "source": [
    "predictions =  model.predict(test_df)"
   ]
  },
  {
   "cell_type": "markdown",
   "id": "929acf70-0197-42a4-814e-d35caaea3693",
   "metadata": {},
   "source": [
    "From the predictions we will create the submission data frame.\n",
    "\n",
    "**Note**: This will take atleast **15 to 20** minutes to finish."
   ]
  },
  {
   "cell_type": "code",
   "execution_count": 55,
   "id": "070c9709-e4eb-42f2-825e-d55e7bb0e3ba",
   "metadata": {},
   "outputs": [],
   "source": [
    "# Reference: https://www.kaggle.com/code/alexandervc/baseline-multilabel-to-multitarget-binary\n",
    "\n",
    "df_submission = pd.DataFrame(columns = ['Protein Id', 'GO Term Id','Prediction'])\n",
    "test_protein_ids = np.load('../data/cafa-5-protein-function-prediction/Test (Targets)/test_ids.npy')"
   ]
  },
  {
   "cell_type": "code",
   "execution_count": 56,
   "id": "6aa1d07e-ed78-4005-a750-d3aa664e5bf5",
   "metadata": {},
   "outputs": [],
   "source": [
    "l = []\n",
    "for k in list(test_protein_ids):\n",
    "    l += [ k] * predictions.shape[1]   "
   ]
  },
  {
   "cell_type": "code",
   "execution_count": 57,
   "id": "ee23228e-bdd1-42de-8658-e3ed0313abd4",
   "metadata": {},
   "outputs": [],
   "source": [
    "%%time\n",
    "df_submission['Protein Id'] = l\n",
    "df_submission['GO Term Id'] = labels * predictions.shape[0]\n",
    "df_submission['Prediction'] = predictions.round(3).ravel()\n",
    "#df_submission.to_csv(\"submission.tsv\",header=False, index=False, sep=\"\\t\")"
   ]
  },
  {
   "cell_type": "code",
   "execution_count": 58,
   "id": "e38e6872-1535-4992-8db0-32c8fb63c833",
   "metadata": {
    "papermill": {
     "duration": 0.063739,
     "end_time": "2023-05-09T08:52:16.292974",
     "exception": false,
     "start_time": "2023-05-09T08:52:16.229235",
     "status": "completed"
    },
    "tags": []
   },
   "outputs": [
    {
     "data": {
      "text/html": [
       "<div>\n",
       "<style scoped>\n",
       "    .dataframe tbody tr th:only-of-type {\n",
       "        vertical-align: middle;\n",
       "    }\n",
       "\n",
       "    .dataframe tbody tr th {\n",
       "        vertical-align: top;\n",
       "    }\n",
       "\n",
       "    .dataframe thead th {\n",
       "        text-align: right;\n",
       "    }\n",
       "</style>\n",
       "<table border=\"1\" class=\"dataframe\">\n",
       "  <thead>\n",
       "    <tr style=\"text-align: right;\">\n",
       "      <th></th>\n",
       "      <th>Protein Id</th>\n",
       "      <th>GO Term Id</th>\n",
       "      <th>Prediction</th>\n",
       "    </tr>\n",
       "  </thead>\n",
       "  <tbody>\n",
       "    <tr>\n",
       "      <th>0</th>\n",
       "      <td>Q9CQV8</td>\n",
       "      <td>GO:0005575</td>\n",
       "      <td>0.526</td>\n",
       "    </tr>\n",
       "    <tr>\n",
       "      <th>1</th>\n",
       "      <td>Q9CQV8</td>\n",
       "      <td>GO:0008150</td>\n",
       "      <td>0.523</td>\n",
       "    </tr>\n",
       "    <tr>\n",
       "      <th>2</th>\n",
       "      <td>Q9CQV8</td>\n",
       "      <td>GO:0110165</td>\n",
       "      <td>0.523</td>\n",
       "    </tr>\n",
       "    <tr>\n",
       "      <th>3</th>\n",
       "      <td>Q9CQV8</td>\n",
       "      <td>GO:0003674</td>\n",
       "      <td>0.518</td>\n",
       "    </tr>\n",
       "    <tr>\n",
       "      <th>4</th>\n",
       "      <td>Q9CQV8</td>\n",
       "      <td>GO:0005622</td>\n",
       "      <td>0.514</td>\n",
       "    </tr>\n",
       "    <tr>\n",
       "      <th>...</th>\n",
       "      <td>...</td>\n",
       "      <td>...</td>\n",
       "      <td>...</td>\n",
       "    </tr>\n",
       "    <tr>\n",
       "      <th>212797495</th>\n",
       "      <td>A0A3G2FQK2</td>\n",
       "      <td>GO:0051783</td>\n",
       "      <td>0.299</td>\n",
       "    </tr>\n",
       "    <tr>\n",
       "      <th>212797496</th>\n",
       "      <td>A0A3G2FQK2</td>\n",
       "      <td>GO:0031674</td>\n",
       "      <td>0.332</td>\n",
       "    </tr>\n",
       "    <tr>\n",
       "      <th>212797497</th>\n",
       "      <td>A0A3G2FQK2</td>\n",
       "      <td>GO:0001818</td>\n",
       "      <td>0.332</td>\n",
       "    </tr>\n",
       "    <tr>\n",
       "      <th>212797498</th>\n",
       "      <td>A0A3G2FQK2</td>\n",
       "      <td>GO:0006874</td>\n",
       "      <td>0.302</td>\n",
       "    </tr>\n",
       "    <tr>\n",
       "      <th>212797499</th>\n",
       "      <td>A0A3G2FQK2</td>\n",
       "      <td>GO:0016887</td>\n",
       "      <td>0.274</td>\n",
       "    </tr>\n",
       "  </tbody>\n",
       "</table>\n",
       "<p>212797500 rows × 3 columns</p>\n",
       "</div>"
      ],
      "text/plain": [
       "           Protein Id  GO Term Id  Prediction\n",
       "0              Q9CQV8  GO:0005575       0.526\n",
       "1              Q9CQV8  GO:0008150       0.523\n",
       "2              Q9CQV8  GO:0110165       0.523\n",
       "3              Q9CQV8  GO:0003674       0.518\n",
       "4              Q9CQV8  GO:0005622       0.514\n",
       "...               ...         ...         ...\n",
       "212797495  A0A3G2FQK2  GO:0051783       0.299\n",
       "212797496  A0A3G2FQK2  GO:0031674       0.332\n",
       "212797497  A0A3G2FQK2  GO:0001818       0.332\n",
       "212797498  A0A3G2FQK2  GO:0006874       0.302\n",
       "212797499  A0A3G2FQK2  GO:0016887       0.274\n",
       "\n",
       "[212797500 rows x 3 columns]"
      ]
     },
     "execution_count": 58,
     "metadata": {},
     "output_type": "execute_result"
    }
   ],
   "source": [
    "df_submission"
   ]
  },
  {
   "cell_type": "code",
   "execution_count": 59,
   "id": "1af2fd07-2803-4f2c-8033-144f56ed2c95",
   "metadata": {},
   "outputs": [
    {
     "data": {
      "text/html": [
       "<div>\n",
       "<style scoped>\n",
       "    .dataframe tbody tr th:only-of-type {\n",
       "        vertical-align: middle;\n",
       "    }\n",
       "\n",
       "    .dataframe tbody tr th {\n",
       "        vertical-align: top;\n",
       "    }\n",
       "\n",
       "    .dataframe thead th {\n",
       "        text-align: right;\n",
       "    }\n",
       "</style>\n",
       "<table border=\"1\" class=\"dataframe\">\n",
       "  <thead>\n",
       "    <tr style=\"text-align: right;\">\n",
       "      <th></th>\n",
       "      <th>Protein Id</th>\n",
       "      <th>GO Term Id</th>\n",
       "      <th>Prediction</th>\n",
       "    </tr>\n",
       "  </thead>\n",
       "  <tbody>\n",
       "  </tbody>\n",
       "</table>\n",
       "</div>"
      ],
      "text/plain": [
       "Empty DataFrame\n",
       "Columns: [Protein Id, GO Term Id, Prediction]\n",
       "Index: []"
      ]
     },
     "execution_count": 59,
     "metadata": {},
     "output_type": "execute_result"
    }
   ],
   "source": [
    "df_submission.query(\"Prediction == 0.000\")"
   ]
  },
  {
   "cell_type": "code",
   "execution_count": null,
   "id": "939e261c-e856-4df1-a263-c5d7e20b3040",
   "metadata": {},
   "outputs": [],
   "source": []
  }
 ],
 "metadata": {
  "kernelspec": {
   "display_name": "Python 3 (ipykernel)",
   "language": "python",
   "name": "python3"
  },
  "language_info": {
   "codemirror_mode": {
    "name": "ipython",
    "version": 3
   },
   "file_extension": ".py",
   "mimetype": "text/x-python",
   "name": "python",
   "nbconvert_exporter": "python",
   "pygments_lexer": "ipython3",
   "version": "3.11.4"
  }
 },
 "nbformat": 4,
 "nbformat_minor": 5
}
